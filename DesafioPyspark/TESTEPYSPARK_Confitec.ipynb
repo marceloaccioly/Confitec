{
 "cells": [
  {
   "cell_type": "code",
   "execution_count": 8,
   "id": "4a6d4c34",
   "metadata": {},
   "outputs": [
    {
     "data": {
      "text/plain": [
       "'C:\\\\Users\\\\re043430\\\\AppData\\\\Roaming\\\\Python\\\\Python39\\\\site-packages\\\\pyspark'"
      ]
     },
     "execution_count": 8,
     "metadata": {},
     "output_type": "execute_result"
    }
   ],
   "source": [
    "import time\n",
    "import os\n",
    "import sys\n",
    "import datetime\n",
    "import pandas as pd\n",
    "import pyarrow.parquet as pq\n",
    "from pyspark.sql import SparkSession, SQLContext\n",
    "from pyspark import SparkContext, SparkConf, SQLContext\n",
    "from pyspark.sql import functions as F\n",
    "import findspark\n",
    "findspark.init()\n",
    "findspark.find()"
   ]
  },
  {
   "cell_type": "code",
   "execution_count": 9,
   "id": "cdb72fb6",
   "metadata": {},
   "outputs": [],
   "source": [
    "spark = SparkSession.builder \\\n",
    "    .master('local') \\\n",
    "    .appName('netFlixApp') \\\n",
    "    .config(\"spark.some.config.option\", \"some-value\") \\\n",
    "    .getOrCreate()"
   ]
  },
  {
   "cell_type": "code",
   "execution_count": 10,
   "id": "6570e2ed",
   "metadata": {},
   "outputs": [],
   "source": [
    "#Ler o Arquivo Parquet  .toDF('Title', 'Genre', 'GenreLabels', 'Premiere', 'Seasons', 'SeasonsParsed', 'EpisodesParsed', 'Length', 'MinLength', 'MaxLength', 'Status', 'Active', 'Table', 'Language', 'dt_inclusao')\n",
    "df_NetFlix = spark.read.parquet('c:\\\\ortools\\OriginaisNetflix.parquet') "
   ]
  },
  {
   "cell_type": "code",
   "execution_count": 11,
   "id": "f7cc00b7",
   "metadata": {},
   "outputs": [
    {
     "name": "stdout",
     "output_type": "stream",
     "text": [
      "+--------------------+--------------------+--------------------+---------+--------------------+-------------+--------------+-----------+---------+---------+----------+------+-----+--------+--------------------+\n",
      "|               Title|               Genre|         GenreLabels| Premiere|             Seasons|SeasonsParsed|EpisodesParsed|     Length|MinLength|MaxLength|    Status|Active|Table|Language|         dt_inclusao|\n",
      "+--------------------+--------------------+--------------------+---------+--------------------+-------------+--------------+-----------+---------+---------+----------+------+-----+--------+--------------------+\n",
      "|      House of Cards|     Political drama|     political,drama| 1-Feb-13|6 seasons, 73 epi...|            6|            73| 42–59 min.|       42|       59|     Ended|     0|Drama| English|2021-03-16T21:20:...|\n",
      "|       Hemlock Grove|     Horror/thriller|     horror,thriller|19-Apr-13|3 seasons, 33 epi...|            3|            33| 45–58 min.|       45|       58|     Ended|     0|Drama| English|2021-03-16T21:20:...|\n",
      "|Orange Is the New...|        Comedy-drama|        comedy-drama|11-Jul-13|6 seasons, 78 epi...|            6|            78| 50–92 min.|       50|       92|   Renewed|     1|Drama| English|2021-03-16T21:20:...|\n",
      "|          Marco Polo|    Historical drama|    historical,drama|12-Dec-14|2 seasons, 20 epi...|            2|            20| 48–65 min.|       48|       65|     Ended|     0|Drama| English|2021-03-16T21:20:...|\n",
      "|           Bloodline|            Thriller|            thriller|20-Mar-15|3 seasons, 33 epi...|            3|            33| 48–68 min.|       48|       68|     Ended|     0|Drama| English|2021-03-16T21:20:...|\n",
      "|              Sense8|     Science fiction|     science-fiction| 5-Jun-15|2 seasons, 24 epi...|            2|            24|45–152 min.|       45|      152|     Ended|     0|Drama| English|2021-03-16T21:20:...|\n",
      "|              Narcos|         Crime drama|         crime,drama|28-Aug-15|3 seasons, 30 epi...|            3|            30| 43–60 min.|       43|       60|     Ended|     0|Drama| English|2021-03-16T21:20:...|\n",
      "|     Stranger Things|Science fiction/h...|science-fiction,h...|15-Jul-16|2 seasons, 17 epi...|            2|            17| 42–62 min.|       42|       62|   Renewed|     1|Drama| English|2021-03-16T21:20:...|\n",
      "|        The Get Down|       Musical drama|       musical,drama|12-Aug-16|2 parts, 11 episodes|            0|            11| 50–93 min.|       50|       93|     Ended|     0|Drama| English|2021-03-16T21:20:...|\n",
      "|           The Crown|    Historical drama|    historical,drama| 4-Nov-16|2 seasons, 20 epi...|            2|            20| 54–61 min.|       54|       61|   Renewed|     1|Drama| English|2021-03-16T21:20:...|\n",
      "|Gilmore Girls: A ...|        Family drama|        family,drama|25-Nov-16|          4 episodes|            0|             4|88–102 min.|       88|      102|Miniseries|     0|Drama| English|2021-03-16T21:20:...|\n",
      "|              The OA|             Mystery|             mystery|16-Dec-16|2 parts, 16 episodes|            0|            16| 31–71 min.|       31|       71|   Pending|     1|Drama| English|2021-03-16T21:20:...|\n",
      "|A Series of Unfor...|Black-comedy mystery|black-comedy,mystery|13-Jan-17|3 seasons, 25 epi...|            3|            25| 36–64 min.|       36|       64|     Ended|     0|Drama| English|2021-03-16T21:20:...|\n",
      "|      13 Reasons Why|  Teen drama/mystery|  teen,drama,mystery|31-Mar-17|2 seasons, 26 epi...|            2|            26| 49–70 min.|       49|       70|   Renewed|     1|Drama| English|2021-03-16T21:20:...|\n",
      "|               Gypsy|Psychological thr...|psychological,thr...|30-Jun-17|1 season, 10 epis...|            1|            10| 46–58 min.|       46|       58|     Ended|     0|Drama| English|2021-03-16T21:20:...|\n",
      "|               Ozark|         Crime drama|         crime,drama|21-Jul-17|2 seasons, 20 epi...|            2|            20| 52–80 min.|       52|       80|   Renewed|     1|Drama| English|2021-03-16T21:20:...|\n",
      "|          Mindhunter|         Crime drama|         crime,drama|13-Oct-17|1 season, 10 epis...|            1|            10| 34–60 min.|       34|       60|   Renewed|     1|Drama| English|2021-03-16T21:20:...|\n",
      "|             Godless|             Western|             western|22-Nov-17|          7 episodes|            0|             7| 41–80 min.|       41|       80|Miniseries|     0|Drama| English|2021-03-16T21:20:...|\n",
      "|      Altered Carbon|     Science fiction|     science-fiction| 2-Feb-18|1 season, 10 epis...|            1|            10| 46–66 min.|       46|       66|   Renewed|     1|Drama| English|2021-03-16T21:20:...|\n",
      "|       Seven Seconds|         Crime drama|         crime,drama|23-Feb-18|1 season, 10 epis...|            1|            10| 54–80 min.|       54|       80|     Ended|     0|Drama| English|2021-03-16T21:20:...|\n",
      "+--------------------+--------------------+--------------------+---------+--------------------+-------------+--------------+-----------+---------+---------+----------+------+-----+--------+--------------------+\n",
      "only showing top 20 rows\n",
      "\n"
     ]
    }
   ],
   "source": [
    "#Explorando o parquet importao para variável DF\n",
    "df_NetFlix.show()"
   ]
  },
  {
   "cell_type": "code",
   "execution_count": 12,
   "id": "a2498f52",
   "metadata": {},
   "outputs": [
    {
     "name": "stdout",
     "output_type": "stream",
     "text": [
      "+--------------------+--------------------+--------------------+----------+--------------------+-------------+--------------+-----------+---------+---------+----------+------+-----+--------+-----------+\n",
      "|               Title|               Genre|         GenreLabels|  Premiere|             Seasons|SeasonsParsed|EpisodesParsed|     Length|MinLength|MaxLength|    Status|Active|Table|Language|dt_inclusao|\n",
      "+--------------------+--------------------+--------------------+----------+--------------------+-------------+--------------+-----------+---------+---------+----------+------+-----+--------+-----------+\n",
      "|      House of Cards|     Political drama|     political,drama|2013-02-01|6 seasons, 73 epi...|            6|            73| 42–59 min.|       42|       59|     Ended|     0|Drama| English| 2021-03-16|\n",
      "|       Hemlock Grove|     Horror/thriller|     horror,thriller|2013-04-19|3 seasons, 33 epi...|            3|            33| 45–58 min.|       45|       58|     Ended|     0|Drama| English| 2021-03-16|\n",
      "|Orange Is the New...|        Comedy-drama|        comedy-drama|2013-07-11|6 seasons, 78 epi...|            6|            78| 50–92 min.|       50|       92|   Renewed|     1|Drama| English| 2021-03-16|\n",
      "|          Marco Polo|    Historical drama|    historical,drama|2014-12-12|2 seasons, 20 epi...|            2|            20| 48–65 min.|       48|       65|     Ended|     0|Drama| English| 2021-03-16|\n",
      "|           Bloodline|            Thriller|            thriller|2015-03-20|3 seasons, 33 epi...|            3|            33| 48–68 min.|       48|       68|     Ended|     0|Drama| English| 2021-03-16|\n",
      "|              Sense8|     Science fiction|     science-fiction|2015-06-05|2 seasons, 24 epi...|            2|            24|45–152 min.|       45|      152|     Ended|     0|Drama| English| 2021-03-16|\n",
      "|              Narcos|         Crime drama|         crime,drama|2015-08-28|3 seasons, 30 epi...|            3|            30| 43–60 min.|       43|       60|     Ended|     0|Drama| English| 2021-03-16|\n",
      "|     Stranger Things|Science fiction/h...|science-fiction,h...|2016-07-15|2 seasons, 17 epi...|            2|            17| 42–62 min.|       42|       62|   Renewed|     1|Drama| English| 2021-03-16|\n",
      "|        The Get Down|       Musical drama|       musical,drama|2016-08-12|2 parts, 11 episodes|            0|            11| 50–93 min.|       50|       93|     Ended|     0|Drama| English| 2021-03-16|\n",
      "|           The Crown|    Historical drama|    historical,drama|2016-11-04|2 seasons, 20 epi...|            2|            20| 54–61 min.|       54|       61|   Renewed|     1|Drama| English| 2021-03-16|\n",
      "|Gilmore Girls: A ...|        Family drama|        family,drama|2016-11-25|          4 episodes|            0|             4|88–102 min.|       88|      102|Miniseries|     0|Drama| English| 2021-03-16|\n",
      "|              The OA|             Mystery|             mystery|2016-12-16|2 parts, 16 episodes|            0|            16| 31–71 min.|       31|       71|   Pending|     1|Drama| English| 2021-03-16|\n",
      "|A Series of Unfor...|Black-comedy mystery|black-comedy,mystery|2017-01-13|3 seasons, 25 epi...|            3|            25| 36–64 min.|       36|       64|     Ended|     0|Drama| English| 2021-03-16|\n",
      "|      13 Reasons Why|  Teen drama/mystery|  teen,drama,mystery|2017-03-31|2 seasons, 26 epi...|            2|            26| 49–70 min.|       49|       70|   Renewed|     1|Drama| English| 2021-03-16|\n",
      "|               Gypsy|Psychological thr...|psychological,thr...|2017-06-30|1 season, 10 epis...|            1|            10| 46–58 min.|       46|       58|     Ended|     0|Drama| English| 2021-03-16|\n",
      "|               Ozark|         Crime drama|         crime,drama|2017-07-21|2 seasons, 20 epi...|            2|            20| 52–80 min.|       52|       80|   Renewed|     1|Drama| English| 2021-03-16|\n",
      "|          Mindhunter|         Crime drama|         crime,drama|2017-10-13|1 season, 10 epis...|            1|            10| 34–60 min.|       34|       60|   Renewed|     1|Drama| English| 2021-03-16|\n",
      "|             Godless|             Western|             western|2017-11-22|          7 episodes|            0|             7| 41–80 min.|       41|       80|Miniseries|     0|Drama| English| 2021-03-16|\n",
      "|      Altered Carbon|     Science fiction|     science-fiction|2018-02-02|1 season, 10 epis...|            1|            10| 46–66 min.|       46|       66|   Renewed|     1|Drama| English| 2021-03-16|\n",
      "|       Seven Seconds|         Crime drama|         crime,drama|2018-02-23|1 season, 10 epis...|            1|            10| 54–80 min.|       54|       80|     Ended|     0|Drama| English| 2021-03-16|\n",
      "+--------------------+--------------------+--------------------+----------+--------------------+-------------+--------------+-----------+---------+---------+----------+------+-----+--------+-----------+\n",
      "only showing top 20 rows\n",
      "\n"
     ]
    }
   ],
   "source": [
    "#Convertendo os dados das Colunad 'Premiere' e 'dt_inclusão' de string para datetime\n",
    "df_NetFlix1=df_NetFlix.withColumn('Premiere', F.from_unixtime(F.unix_timestamp('Premiere','d-MMM-yy')).cast('date')) \\\n",
    "    .withColumn('dt_inclusao', F.to_date(df_NetFlix.dt_inclusao).cast('date')) \\\n",
    "\n",
    "df_NetFlix1.show()"
   ]
  },
  {
   "cell_type": "code",
   "execution_count": 13,
   "id": "098d77eb",
   "metadata": {},
   "outputs": [
    {
     "name": "stdout",
     "output_type": "stream",
     "text": [
      "+----------------------------------------------------+--------------------+--------------------+----------+----------------------+-------------+--------------+----------+---------+---------+----------+------+---------------+--------+-----------+\n",
      "|Title                                               |Genre               |GenreLabels         |Premiere  |Seasons               |SeasonsParsed|EpisodesParsed|Length    |MinLength|MaxLength|Status    |Active|Table          |Language|dt_inclusao|\n",
      "+----------------------------------------------------+--------------------+--------------------+----------+----------------------+-------------+--------------+----------+---------+---------+----------+------+---------------+--------+-----------+\n",
      "|Blazing Transfer Students                           |Action comedy       |action,comedy       |2017-11-10|1 season, 8 episodes  |1            |8             |23–28 min.|23       |28       |Ended     |0     |ForeignLanguage|Japanese|2021-03-16 |\n",
      "|The Day I Met El Chapo                              |Biography           |biography           |2017-10-20|1 season, 3 episodes  |1            |3             |48–61 min.|48       |61       |Ended     |0     |DocuSeries     |English |2021-03-16 |\n",
      "|Abstract: The Art of Design                         |Biography           |biography           |2017-02-10|1 season, 8 episodes  |1            |8             |41–48 min.|41       |48       |Ended     |0     |DocuSeries     |English |2021-03-16 |\n",
      "|A Series of Unfortunate Events                      |Black-comedy mystery|black-comedy,mystery|2017-01-13|3 seasons, 25 episodes|3            |25            |36–64 min.|36       |64       |Ended     |0     |Drama          |English |2021-03-16 |\n",
      "|Chasing Cameron                                     |Celebrity           |celebrity           |2016-12-27|1 season, 10 episodes |1            |10            |26–33 min.|26       |33       |Ended     |0     |Reality        |English |2021-03-16 |\n",
      "|All About the Washingtons                           |Comedy              |comedy              |2018-08-10|1 season, 10 episodes |1            |10            |22–27 min.|22       |27       |Ended     |0     |Comedy         |English |2021-03-16 |\n",
      "|Master of None                                      |Comedy              |comedy              |2015-11-06|2 seasons, 20 episodes|2            |20            |21–57 min.|21       |57       |Ended     |0     |Comedy         |English |2021-03-16 |\n",
      "|Unbreakable Kimmy Schmidt                           |Comedy              |comedy              |2015-03-06|4 seasons, 51 episodes|4            |51            |23–53 min.|23       |53       |Ended     |0     |Comedy         |English |2021-03-16 |\n",
      "|Flaked                                              |Comedy              |comedy              |2016-03-11|2 seasons, 14 episodes|2            |14            |30–34 min.|30       |34       |Ended     |0     |Comedy         |English |2021-03-16 |\n",
      "|Lady Dynamite                                       |Comedy              |comedy              |2016-05-20|2 seasons, 20 episodes|2            |20            |26–36 min.|26       |36       |Ended     |0     |Comedy         |English |2021-03-16 |\n",
      "|Girlboss                                            |Comedy              |comedy              |2017-04-21|1 season, 13 episodes |1            |13            |24–29 min.|24       |29       |Ended     |0     |Comedy         |English |2021-03-16 |\n",
      "|Disjointed                                          |Comedy              |comedy              |2017-08-25|2 parts, 20 episodes  |0            |20            |23–32 min.|23       |32       |Ended     |0     |Comedy         |English |2021-03-16 |\n",
      "|Best.Worst.Weekend.Ever.                            |Comedy              |comedy              |2018-10-19|8 episodes            |0            |8             |22–28 min.|22       |28       |Miniseries|0     |Children       |English |2021-03-16 |\n",
      "|Club de Cuervos Presents: The Ballad of Hugo Sánchez|Comedy              |comedy              |2018-06-17|1 season, 6 episodes  |1            |6             |29–37 min.|29       |37       |Ended     |0     |ForeignLanguage|Spanish |2021-03-16 |\n",
      "|Chelsea Does                                        |Comedy              |comedy              |2016-01-23|1 season, 4 episodes  |1            |4             |62–74 min.|62       |74       |Ended     |0     |DocuSeries     |English |2021-03-16 |\n",
      "|Haters Back Off                                     |Comedy              |comedy              |2016-10-14|2 seasons, 16 episodes|2            |16            |24–36 min.|24       |36       |Ended     |0     |Comedy         |English |2021-03-16 |\n",
      "|Friends from College                                |Comedy              |comedy              |2017-07-14|2 seasons, 16 episodes|2            |16            |26–34 min.|26       |34       |Ended     |0     |Comedy         |English |2021-03-16 |\n",
      "|Project Mc2                                         |Comedy              |comedy              |2016-08-07|6 parts, 26 episodes  |0            |26            |22–34 min.|22       |34       |Ended     |0     |Children       |English |2021-03-16 |\n",
      "|My Only Love Song                                   |Comedy              |comedy              |2017-06-09|1 season, 20 episodes |1            |20            |27–30 min.|27       |30       |Ended     |0     |ForeignLanguage|Korean  |2021-03-16 |\n",
      "|Russell Peters Vs. the World                        |Comedy              |comedy              |2013-10-03|1 season, 4 episodes  |1            |4             |26–29 min.|26       |29       |Ended     |0     |DocuSeries     |English |2021-03-16 |\n",
      "+----------------------------------------------------+--------------------+--------------------+----------+----------------------+-------------+--------------+----------+---------+---------+----------+------+---------------+--------+-----------+\n",
      "only showing top 20 rows\n",
      "\n"
     ]
    }
   ],
   "source": [
    "df_NetFlix2=df_NetFlix1.orderBy(df_NetFlix1.Active, df_NetFlix1.Genre)\n",
    "df_NetFlix2.show(truncate=False)"
   ]
  },
  {
   "cell_type": "code",
   "execution_count": 14,
   "id": "1f6de54f",
   "metadata": {},
   "outputs": [
    {
     "name": "stdout",
     "output_type": "stream",
     "text": [
      "+--------------------+--------------------+--------------------+----------+--------------------+-------------+--------------+----------+---------+---------+-------+------+--------+--------+-----------+\n",
      "|               Title|               Genre|         GenreLabels|  Premiere|             Seasons|SeasonsParsed|EpisodesParsed|    Length|MinLength|MaxLength| Status|Active|   Table|Language|dt_inclusao|\n",
      "+--------------------+--------------------+--------------------+----------+--------------------+-------------+--------------+----------+---------+---------+-------+------+--------+--------+-----------+\n",
      "|          True Tunes|chrildrens musica...|chrildrens,musica...|2019-07-12|     a ser anunciado|            0|             0|       TBA|        0|        0|Pending|     1|Children| English| 2021-03-16|\n",
      "|Dance & Sing with...|chrildrens musica...|chrildrens,musica...|2018-05-18|1 season, 11 epis...|            1|            11|    2 min.|        2|        2|Pending|     1|Children| English| 2021-03-16|\n",
      "|Super Monsters Mo...|chrildrens musica...|chrildrens,musica...|2018-09-14|1 season, 4 episodes|            1|             4|    2 min.|        2|        2|Pending|     1|Children| English| 2021-03-16|\n",
      "|The Epic Tales of...| childrens-animation| childrens-animation|2018-07-13|2 seasons, 26 epi...|            2|            26|   24 min.|       24|       24|Renewed|     1|Children| English| 2021-03-16|\n",
      "|She-Ra and the Pr...| childrens-animation| childrens-animation|2018-11-13|2 seasons, 20 epi...|            2|            20|   24 min.|       24|       24|Renewed|     1|Children| English| 2021-03-16|\n",
      "|  Spirit Riding Free| childrens-animation| childrens-animation|2017-05-05|8 seasons, 52 epi...|            8|            52|   23 min.|       23|       23|Pending|     1|Children| English| 2021-03-16|\n",
      "|   Ask the StoryBots| childrens-animation| childrens-animation|2016-08-12|2 seasons, 14 epi...|            2|            14|20–28 min.|       20|       28|Renewed|     1|Children| English| 2021-03-16|\n",
      "|Kulipari: Dream W...| childrens-animation| childrens-animation|2018-11-20|1 season, 10 epis...|            1|            10|   23 min.|       23|       23|Pending|     1|Children| English| 2021-03-16|\n",
      "|Charlie's Colorfo...| childrens-animation| childrens-animation|2019-03-22|1 season, 13 epis...|            1|            13|   25 min.|       25|       25|Pending|     1|Children| English| 2021-03-16|\n",
      "|        Larva Island| childrens-animation| childrens-animation|2018-10-19|2 seasons, 26 epi...|            2|            26|    8 min.|        8|        8|Pending|     1|Children| English| 2021-03-16|\n",
      "|     Carmen Sandiego| childrens-animation| childrens-animation|2019-01-18|1 season, 9 episodes|            1|             9|23–33 min.|       23|       33|Renewed|     1|Children| English| 2021-03-16|\n",
      "|        Motown Magic| childrens-animation| childrens-animation|2018-11-20|1 season, 25 epis...|            1|            25|15–26 min.|       15|       26|Renewed|     1|Children| English| 2021-03-16|\n",
      "|               Hilda| childrens-animation| childrens-animation|2018-09-21|1 season, 13 epis...|            1|            13|   24 min.|       24|       24|Renewed|     1|Children| English| 2021-03-16|\n",
      "|        Legend Quest| childrens-animation| childrens-animation|2017-02-24|1 season, 13 epis...|            1|            13|   22 min.|       22|       22|Renewed|     1|Children| English| 2021-03-16|\n",
      "| Mighty Little Bheem| childrens-animation| childrens-animation|2019-04-12|1 season, 21 epis...|            1|            21|  6–7 min.|        6|        7|Pending|     1|Children| English| 2021-03-16|\n",
      "|       Pinky Malinky| childrens-animation| childrens-animation|2019-01-01|2 parts, 44 episodes|            0|            44|12–23 min.|       12|       23|Renewed|     1|Children| English| 2021-03-16|\n",
      "|   The Dragon Prince| childrens-animation| childrens-animation|2018-09-14|2 seasons, 18 epi...|            2|            18|25–27 min.|       25|       27|Renewed|     1|Children| English| 2021-03-16|\n",
      "|The Boss Baby: Ba...| childrens-animation| childrens-animation|2018-04-06|2 seasons, 26 epi...|            2|            26|   24 min.|       24|       24|Pending|     1|Children| English| 2021-03-16|\n",
      "|      Super Monsters| childrens-animation| childrens-animation|2017-10-13|2 seasons, 16 epi...|            2|            16|22–23 min.|       22|       23|Renewed|     1|Children| English| 2021-03-16|\n",
      "|3Below: Tales of ...| childrens-animation| childrens-animation|2018-12-21| 1 part, 13 episodes|            0|            13|23–24 min.|       23|       24|Renewed|     1|Children| English| 2021-03-16|\n",
      "+--------------------+--------------------+--------------------+----------+--------------------+-------------+--------------+----------+---------+---------+-------+------+--------+--------+-----------+\n",
      "only showing top 20 rows\n",
      "\n"
     ]
    }
   ],
   "source": [
    "df_NetFlix3=df_NetFlix2.dropDuplicates() \\\n",
    "    .withColumn('Seasons', F.regexp_replace('Seasons', 'TBA', 'a ser anunciado')) \\\n",
    "    .orderBy(F.desc(\"Active\"),F.desc(\"Genre\"))\n",
    "\n",
    "\n",
    "\n",
    "df_NetFlix3.show()"
   ]
  },
  {
   "cell_type": "code",
   "execution_count": 15,
   "id": "40f59be3",
   "metadata": {},
   "outputs": [
    {
     "name": "stdout",
     "output_type": "stream",
     "text": [
      "+--------------------+--------------------+--------------------+----------+--------------------+-------------+--------------+----------+---------+---------+-------+------+--------+--------+-----------+--------------+\n",
      "|               Title|               Genre|         GenreLabels|  Premiere|             Seasons|SeasonsParsed|EpisodesParsed|    Length|MinLength|MaxLength| Status|Active|   Table|Language|dt_inclusao|Data Alteração|\n",
      "+--------------------+--------------------+--------------------+----------+--------------------+-------------+--------------+----------+---------+---------+-------+------+--------+--------+-----------+--------------+\n",
      "|          True Tunes|chrildrens musica...|chrildrens,musica...|2019-07-12|     a ser anunciado|            0|             0|       TBA|        0|        0|Pending|     1|Children| English| 2021-03-16|    2022-11-27|\n",
      "|Dance & Sing with...|chrildrens musica...|chrildrens,musica...|2018-05-18|1 season, 11 epis...|            1|            11|    2 min.|        2|        2|Pending|     1|Children| English| 2021-03-16|    2022-11-27|\n",
      "|Super Monsters Mo...|chrildrens musica...|chrildrens,musica...|2018-09-14|1 season, 4 episodes|            1|             4|    2 min.|        2|        2|Pending|     1|Children| English| 2021-03-16|    2022-11-27|\n",
      "|The Epic Tales of...| childrens-animation| childrens-animation|2018-07-13|2 seasons, 26 epi...|            2|            26|   24 min.|       24|       24|Renewed|     1|Children| English| 2021-03-16|    2022-11-27|\n",
      "|She-Ra and the Pr...| childrens-animation| childrens-animation|2018-11-13|2 seasons, 20 epi...|            2|            20|   24 min.|       24|       24|Renewed|     1|Children| English| 2021-03-16|    2022-11-27|\n",
      "|  Spirit Riding Free| childrens-animation| childrens-animation|2017-05-05|8 seasons, 52 epi...|            8|            52|   23 min.|       23|       23|Pending|     1|Children| English| 2021-03-16|    2022-11-27|\n",
      "|   Ask the StoryBots| childrens-animation| childrens-animation|2016-08-12|2 seasons, 14 epi...|            2|            14|20–28 min.|       20|       28|Renewed|     1|Children| English| 2021-03-16|    2022-11-27|\n",
      "|Kulipari: Dream W...| childrens-animation| childrens-animation|2018-11-20|1 season, 10 epis...|            1|            10|   23 min.|       23|       23|Pending|     1|Children| English| 2021-03-16|    2022-11-27|\n",
      "|Charlie's Colorfo...| childrens-animation| childrens-animation|2019-03-22|1 season, 13 epis...|            1|            13|   25 min.|       25|       25|Pending|     1|Children| English| 2021-03-16|    2022-11-27|\n",
      "|        Larva Island| childrens-animation| childrens-animation|2018-10-19|2 seasons, 26 epi...|            2|            26|    8 min.|        8|        8|Pending|     1|Children| English| 2021-03-16|    2022-11-27|\n",
      "|     Carmen Sandiego| childrens-animation| childrens-animation|2019-01-18|1 season, 9 episodes|            1|             9|23–33 min.|       23|       33|Renewed|     1|Children| English| 2021-03-16|    2022-11-27|\n",
      "|        Motown Magic| childrens-animation| childrens-animation|2018-11-20|1 season, 25 epis...|            1|            25|15–26 min.|       15|       26|Renewed|     1|Children| English| 2021-03-16|    2022-11-27|\n",
      "|               Hilda| childrens-animation| childrens-animation|2018-09-21|1 season, 13 epis...|            1|            13|   24 min.|       24|       24|Renewed|     1|Children| English| 2021-03-16|    2022-11-27|\n",
      "|        Legend Quest| childrens-animation| childrens-animation|2017-02-24|1 season, 13 epis...|            1|            13|   22 min.|       22|       22|Renewed|     1|Children| English| 2021-03-16|    2022-11-27|\n",
      "| Mighty Little Bheem| childrens-animation| childrens-animation|2019-04-12|1 season, 21 epis...|            1|            21|  6–7 min.|        6|        7|Pending|     1|Children| English| 2021-03-16|    2022-11-27|\n",
      "|       Pinky Malinky| childrens-animation| childrens-animation|2019-01-01|2 parts, 44 episodes|            0|            44|12–23 min.|       12|       23|Renewed|     1|Children| English| 2021-03-16|    2022-11-27|\n",
      "|   The Dragon Prince| childrens-animation| childrens-animation|2018-09-14|2 seasons, 18 epi...|            2|            18|25–27 min.|       25|       27|Renewed|     1|Children| English| 2021-03-16|    2022-11-27|\n",
      "|The Boss Baby: Ba...| childrens-animation| childrens-animation|2018-04-06|2 seasons, 26 epi...|            2|            26|   24 min.|       24|       24|Pending|     1|Children| English| 2021-03-16|    2022-11-27|\n",
      "|      Super Monsters| childrens-animation| childrens-animation|2017-10-13|2 seasons, 16 epi...|            2|            16|22–23 min.|       22|       23|Renewed|     1|Children| English| 2021-03-16|    2022-11-27|\n",
      "|3Below: Tales of ...| childrens-animation| childrens-animation|2018-12-21| 1 part, 13 episodes|            0|            13|23–24 min.|       23|       24|Renewed|     1|Children| English| 2021-03-16|    2022-11-27|\n",
      "+--------------------+--------------------+--------------------+----------+--------------------+-------------+--------------+----------+---------+---------+-------+------+--------+--------+-----------+--------------+\n",
      "only showing top 20 rows\n",
      "\n"
     ]
    }
   ],
   "source": [
    "df_NetFlix4=df_NetFlix3.withColumn('Data Alteração', F.current_timestamp().cast('date'))\n",
    "df_NetFlix4.show()"
   ]
  },
  {
   "cell_type": "code",
   "execution_count": 16,
   "id": "06e60b6f",
   "metadata": {},
   "outputs": [
    {
     "name": "stdout",
     "output_type": "stream",
     "text": [
      "root\n",
      " |-- Title: string (nullable = true)\n",
      " |-- Genre: string (nullable = true)\n",
      " |-- GenreLabels: string (nullable = true)\n",
      " |-- Premiere: date (nullable = true)\n",
      " |-- Seasons: string (nullable = true)\n",
      " |-- SeasonsParsed: long (nullable = true)\n",
      " |-- EpisodesParsed: long (nullable = true)\n",
      " |-- Length: string (nullable = true)\n",
      " |-- MinLength: long (nullable = true)\n",
      " |-- MaxLength: long (nullable = true)\n",
      " |-- Status: string (nullable = true)\n",
      " |-- Active: long (nullable = true)\n",
      " |-- Table: string (nullable = true)\n",
      " |-- Language: string (nullable = true)\n",
      " |-- dt_inclusao: date (nullable = true)\n",
      " |-- Data Alteração: date (nullable = false)\n",
      "\n"
     ]
    }
   ],
   "source": [
    "df_NetFlix4.printSchema()"
   ]
  },
  {
   "cell_type": "code",
   "execution_count": 17,
   "id": "f9fca819",
   "metadata": {},
   "outputs": [
    {
     "name": "stdout",
     "output_type": "stream",
     "text": [
      "+------------------------------------+------------------------+------------------------+----------+----------------------+---------------------+--------------------+----------+-------------+-------------+-------+-----+--------+-------+-------------+--------------+\n",
      "|Título                              |Gênero                  |Rótulos de Gênero       |Estreia   |Temporada             |Temporadas Anteriores|Episódios Anteriores|Duração   |Menor Duração|Maior Duração|Status |Ativa|Tabela  |Idioma |Data Inclusão|Data Alteração|\n",
      "+------------------------------------+------------------------+------------------------+----------+----------------------+---------------------+--------------------+----------+-------------+-------------+-------+-----+--------+-------+-------------+--------------+\n",
      "|True Tunes                          |chrildrens musical short|chrildrens,musical,short|2019-07-12|a ser anunciado       |0                    |0                   |TBA       |0            |0            |Pending|1    |Children|English|2021-03-16   |2022-11-27    |\n",
      "|Dance & Sing with True              |chrildrens musical short|chrildrens,musical,short|2018-05-18|1 season, 11 episodes |1                    |11                  |2 min.    |2            |2            |Pending|1    |Children|English|2021-03-16   |2022-11-27    |\n",
      "|Super Monsters Monster Party        |chrildrens musical short|chrildrens,musical,short|2018-09-14|1 season, 4 episodes  |1                    |4                   |2 min.    |2            |2            |Pending|1    |Children|English|2021-03-16   |2022-11-27    |\n",
      "|The Epic Tales of Captain Underpants|childrens-animation     |childrens-animation     |2018-07-13|2 seasons, 26 episodes|2                    |26                  |24 min.   |24           |24           |Renewed|1    |Children|English|2021-03-16   |2022-11-27    |\n",
      "|She-Ra and the Princesses of Power  |childrens-animation     |childrens-animation     |2018-11-13|2 seasons, 20 episodes|2                    |20                  |24 min.   |24           |24           |Renewed|1    |Children|English|2021-03-16   |2022-11-27    |\n",
      "|Spirit Riding Free                  |childrens-animation     |childrens-animation     |2017-05-05|8 seasons, 52 episodes|8                    |52                  |23 min.   |23           |23           |Pending|1    |Children|English|2021-03-16   |2022-11-27    |\n",
      "|Ask the StoryBots                   |childrens-animation     |childrens-animation     |2016-08-12|2 seasons, 14 episodes|2                    |14                  |20–28 min.|20           |28           |Renewed|1    |Children|English|2021-03-16   |2022-11-27    |\n",
      "|Kulipari: Dream Walker              |childrens-animation     |childrens-animation     |2018-11-20|1 season, 10 episodes |1                    |10                  |23 min.   |23           |23           |Pending|1    |Children|English|2021-03-16   |2022-11-27    |\n",
      "|Charlie's Colorforms City           |childrens-animation     |childrens-animation     |2019-03-22|1 season, 13 episodes |1                    |13                  |25 min.   |25           |25           |Pending|1    |Children|English|2021-03-16   |2022-11-27    |\n",
      "|Larva Island                        |childrens-animation     |childrens-animation     |2018-10-19|2 seasons, 26 episodes|2                    |26                  |8 min.    |8            |8            |Pending|1    |Children|English|2021-03-16   |2022-11-27    |\n",
      "|Carmen Sandiego                     |childrens-animation     |childrens-animation     |2019-01-18|1 season, 9 episodes  |1                    |9                   |23–33 min.|23           |33           |Renewed|1    |Children|English|2021-03-16   |2022-11-27    |\n",
      "|Motown Magic                        |childrens-animation     |childrens-animation     |2018-11-20|1 season, 25 episodes |1                    |25                  |15–26 min.|15           |26           |Renewed|1    |Children|English|2021-03-16   |2022-11-27    |\n",
      "|Hilda                               |childrens-animation     |childrens-animation     |2018-09-21|1 season, 13 episodes |1                    |13                  |24 min.   |24           |24           |Renewed|1    |Children|English|2021-03-16   |2022-11-27    |\n",
      "|Legend Quest                        |childrens-animation     |childrens-animation     |2017-02-24|1 season, 13 episodes |1                    |13                  |22 min.   |22           |22           |Renewed|1    |Children|English|2021-03-16   |2022-11-27    |\n",
      "|Mighty Little Bheem                 |childrens-animation     |childrens-animation     |2019-04-12|1 season, 21 episodes |1                    |21                  |6–7 min.  |6            |7            |Pending|1    |Children|English|2021-03-16   |2022-11-27    |\n",
      "|Pinky Malinky                       |childrens-animation     |childrens-animation     |2019-01-01|2 parts, 44 episodes  |0                    |44                  |12–23 min.|12           |23           |Renewed|1    |Children|English|2021-03-16   |2022-11-27    |\n",
      "|The Dragon Prince                   |childrens-animation     |childrens-animation     |2018-09-14|2 seasons, 18 episodes|2                    |18                  |25–27 min.|25           |27           |Renewed|1    |Children|English|2021-03-16   |2022-11-27    |\n",
      "|The Boss Baby: Back in Business     |childrens-animation     |childrens-animation     |2018-04-06|2 seasons, 26 episodes|2                    |26                  |24 min.   |24           |24           |Pending|1    |Children|English|2021-03-16   |2022-11-27    |\n",
      "|Super Monsters                      |childrens-animation     |childrens-animation     |2017-10-13|2 seasons, 16 episodes|2                    |16                  |22–23 min.|22           |23           |Renewed|1    |Children|English|2021-03-16   |2022-11-27    |\n",
      "|3Below: Tales of Arcadia            |childrens-animation     |childrens-animation     |2018-12-21|1 part, 13 episodes   |0                    |13                  |23–24 min.|23           |24           |Renewed|1    |Children|English|2021-03-16   |2022-11-27    |\n",
      "+------------------------------------+------------------------+------------------------+----------+----------------------+---------------------+--------------------+----------+-------------+-------------+-------+-----+--------+-------+-------------+--------------+\n",
      "only showing top 20 rows\n",
      "\n"
     ]
    }
   ],
   "source": [
    "df_NetFlix5=df_NetFlix4.withColumnRenamed('Title', 'Título') \\\n",
    "    .withColumnRenamed('Genre', 'Gênero') \\\n",
    "    .withColumnRenamed('GenreLabels', 'Rótulos de Gênero') \\\n",
    "    .withColumnRenamed('Premiere','Estreia') \\\n",
    "    .withColumnRenamed('Seasons','Temporada') \\\n",
    "    .withColumnRenamed('SeasonsParsed','Temporadas Anteriores') \\\n",
    "    .withColumnRenamed('EpisodesParsed','Episódios Anteriores') \\\n",
    "    .withColumnRenamed('Length','Duração') \\\n",
    "    .withColumnRenamed('MinLength','Menor Duração') \\\n",
    "    .withColumnRenamed('MaxLength','Maior Duração') \\\n",
    "    .withColumnRenamed('Status','Status') \\\n",
    "    .withColumnRenamed('Active','Ativa') \\\n",
    "    .withColumnRenamed('Table','Tabela') \\\n",
    "    .withColumnRenamed('Language','Idioma') \\\n",
    "    .withColumnRenamed('dt_inclusao','Data Inclusão') \\\n",
    "    .withColumnRenamed('datetime','Data e Hora')\n",
    "\n",
    "df_NetFlix5.show(truncate=False)"
   ]
  },
  {
   "cell_type": "code",
   "execution_count": null,
   "id": "1a661336",
   "metadata": {},
   "outputs": [],
   "source": [
    "df_NetFlix5.write \\\n",
    "    .options('header', 'true') \\\n",
    "    ,options('sep', ';') \\\n",
    "    .csv('s3://repomaster')"
   ]
  }
 ],
 "metadata": {
  "kernelspec": {
   "display_name": "Python 3.9.12",
   "language": "python",
   "name": "python3"
  },
  "language_info": {
   "codemirror_mode": {
    "name": "ipython",
    "version": 3
   },
   "file_extension": ".py",
   "mimetype": "text/x-python",
   "name": "python",
   "nbconvert_exporter": "python",
   "pygments_lexer": "ipython3",
   "version": "3.9.12"
  },
  "vscode": {
   "interpreter": {
    "hash": "5e373f82cc675b09c9211800967e1346fab4c59a37198da2f0e6c1f9d927eb9b"
   }
  }
 },
 "nbformat": 4,
 "nbformat_minor": 5
}
