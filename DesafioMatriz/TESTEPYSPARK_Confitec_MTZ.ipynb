{
 "cells": [
  {
   "cell_type": "code",
   "execution_count": 4,
   "id": "a452098c",
   "metadata": {},
   "outputs": [],
   "source": [
    "import numpy as np\n",
    "from random import sample"
   ]
  },
  {
   "cell_type": "code",
   "execution_count": 6,
   "id": "a3b7fb87",
   "metadata": {},
   "outputs": [],
   "source": [
    "#Criando a classe para instaciar uma Matriz\n",
    "class Matriz:\n",
    "    def __init__(self, mat):\n",
    "        self.mat = mat\n",
    "        self.lin = len(mat)\n",
    "        self.col = len(mat[0])\n",
    "\n",
    "    def getLinha(self, n):\n",
    "        return [i for i in self.mat[n]]\n",
    "\n",
    "    def getColuna(self, n):\n",
    "        return [i[n] for i in self.mat]\n",
    "\n",
    "    # opcional: dar overload no operador de multiplicação\n",
    "    def __mul__(self, mat2):\n",
    "        matRes = []\n",
    "\n",
    "        for i in range(self.lin):           \n",
    "            matRes.append([])\n",
    "\n",
    "            for j in range(mat2.col):\n",
    "                listMult = [x*y for x, y in zip(self.getLinha(i), mat2.getColuna(j))]\n",
    "                matRes[i].append(sum(listMult))\n",
    "\n",
    "        return matRes"
   ]
  },
  {
   "cell_type": "code",
   "execution_count": 33,
   "id": "994b94e1",
   "metadata": {},
   "outputs": [],
   "source": [
    "#Vetor é formado por 12 valores de forma não repetida. 12? Porque eu quero uma matriz 4X4.\n",
    "numeros = sample(range(1, 100 + 1), 12)"
   ]
  },
  {
   "cell_type": "code",
   "execution_count": 36,
   "id": "25166ff7",
   "metadata": {},
   "outputs": [
    {
     "name": "stdout",
     "output_type": "stream",
     "text": [
      "[[1326, 3417, 1108, 2995], [532, 1281, 572, 1297], [1676, 2779, 2574, 7042]]\n"
     ]
    }
   ],
   "source": [
    "#Instanciando a Matriz e calculando seu Produto.\n",
    "A = Matriz(np.array([numeros[i:i + 4] for i in range(0, len(numeros), 4)]))\n",
    "\n",
    "B = Matriz(np.array([numeros[i:i + 4] for i in range(0, len(numeros), 4)]))\n",
    "\n",
    "produto = (A*B)\n",
    "\n",
    "print(produto)"
   ]
  },
  {
   "cell_type": "code",
   "execution_count": null,
   "id": "7b540c70",
   "metadata": {},
   "outputs": [],
   "source": []
  }
 ],
 "metadata": {
  "kernelspec": {
   "display_name": "Python 3.9.12",
   "language": "python",
   "name": "python3"
  },
  "language_info": {
   "codemirror_mode": {
    "name": "ipython",
    "version": 3
   },
   "file_extension": ".py",
   "mimetype": "text/x-python",
   "name": "python",
   "nbconvert_exporter": "python",
   "pygments_lexer": "ipython3",
   "version": "3.9.12"
  },
  "vscode": {
   "interpreter": {
    "hash": "5e373f82cc675b09c9211800967e1346fab4c59a37198da2f0e6c1f9d927eb9b"
   }
  }
 },
 "nbformat": 4,
 "nbformat_minor": 5
}
